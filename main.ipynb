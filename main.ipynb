{
 "cells": [
  {
   "cell_type": "code",
   "execution_count": 729,
   "metadata": {},
   "outputs": [],
   "source": [
    "import pandas as pd\n",
    "import numpy as np\n",
    "import matplotlib.pyplot as plt\n",
    "# sckit-learn library is used for spilting and Fischer-Discriminant only.\n",
    "import seaborn as sb\n",
    "from sklearn.model_selection import train_test_split\n",
    "import warnings\n",
    "warnings.filterwarnings('ignore')\n",
    "import math\n",
    "from random import Random"
   ]
  },
  {
   "cell_type": "code",
   "execution_count": 794,
   "metadata": {},
   "outputs": [
    {
     "name": "stdout",
     "output_type": "stream",
     "text": [
      "(569, 32)\n"
     ]
    },
    {
     "data": {
      "text/html": [
       "<div>\n",
       "<style scoped>\n",
       "    .dataframe tbody tr th:only-of-type {\n",
       "        vertical-align: middle;\n",
       "    }\n",
       "\n",
       "    .dataframe tbody tr th {\n",
       "        vertical-align: top;\n",
       "    }\n",
       "\n",
       "    .dataframe thead th {\n",
       "        text-align: right;\n",
       "    }\n",
       "</style>\n",
       "<table border=\"1\" class=\"dataframe\">\n",
       "  <thead>\n",
       "    <tr style=\"text-align: right;\">\n",
       "      <th></th>\n",
       "      <th>id</th>\n",
       "      <th>diagnosis</th>\n",
       "      <th>radius_mean</th>\n",
       "      <th>texture_mean</th>\n",
       "      <th>perimeter_mean</th>\n",
       "      <th>area_mean</th>\n",
       "      <th>smoothness_mean</th>\n",
       "      <th>compactness_mean</th>\n",
       "      <th>concavity_mean</th>\n",
       "      <th>concave points_mean</th>\n",
       "      <th>...</th>\n",
       "      <th>radius_worst</th>\n",
       "      <th>texture_worst</th>\n",
       "      <th>perimeter_worst</th>\n",
       "      <th>area_worst</th>\n",
       "      <th>smoothness_worst</th>\n",
       "      <th>compactness_worst</th>\n",
       "      <th>concavity_worst</th>\n",
       "      <th>concave points_worst</th>\n",
       "      <th>symmetry_worst</th>\n",
       "      <th>fractal_dimension_worst</th>\n",
       "    </tr>\n",
       "  </thead>\n",
       "  <tbody>\n",
       "    <tr>\n",
       "      <th>0</th>\n",
       "      <td>842302</td>\n",
       "      <td>M</td>\n",
       "      <td>17.99</td>\n",
       "      <td>10.38</td>\n",
       "      <td>122.80</td>\n",
       "      <td>1001.0</td>\n",
       "      <td>0.11840</td>\n",
       "      <td>0.27760</td>\n",
       "      <td>0.3001</td>\n",
       "      <td>0.14710</td>\n",
       "      <td>...</td>\n",
       "      <td>25.38</td>\n",
       "      <td>17.33</td>\n",
       "      <td>184.60</td>\n",
       "      <td>2019.0</td>\n",
       "      <td>0.1622</td>\n",
       "      <td>0.6656</td>\n",
       "      <td>0.7119</td>\n",
       "      <td>0.2654</td>\n",
       "      <td>0.4601</td>\n",
       "      <td>0.11890</td>\n",
       "    </tr>\n",
       "    <tr>\n",
       "      <th>1</th>\n",
       "      <td>842517</td>\n",
       "      <td>M</td>\n",
       "      <td>20.57</td>\n",
       "      <td>17.77</td>\n",
       "      <td>132.90</td>\n",
       "      <td>1326.0</td>\n",
       "      <td>0.08474</td>\n",
       "      <td>0.07864</td>\n",
       "      <td>0.0869</td>\n",
       "      <td>0.07017</td>\n",
       "      <td>...</td>\n",
       "      <td>24.99</td>\n",
       "      <td>23.41</td>\n",
       "      <td>158.80</td>\n",
       "      <td>1956.0</td>\n",
       "      <td>0.1238</td>\n",
       "      <td>0.1866</td>\n",
       "      <td>0.2416</td>\n",
       "      <td>0.1860</td>\n",
       "      <td>0.2750</td>\n",
       "      <td>0.08902</td>\n",
       "    </tr>\n",
       "    <tr>\n",
       "      <th>2</th>\n",
       "      <td>84300903</td>\n",
       "      <td>M</td>\n",
       "      <td>19.69</td>\n",
       "      <td>21.25</td>\n",
       "      <td>130.00</td>\n",
       "      <td>1203.0</td>\n",
       "      <td>0.10960</td>\n",
       "      <td>0.15990</td>\n",
       "      <td>0.1974</td>\n",
       "      <td>0.12790</td>\n",
       "      <td>...</td>\n",
       "      <td>23.57</td>\n",
       "      <td>25.53</td>\n",
       "      <td>152.50</td>\n",
       "      <td>1709.0</td>\n",
       "      <td>0.1444</td>\n",
       "      <td>0.4245</td>\n",
       "      <td>0.4504</td>\n",
       "      <td>0.2430</td>\n",
       "      <td>0.3613</td>\n",
       "      <td>0.08758</td>\n",
       "    </tr>\n",
       "    <tr>\n",
       "      <th>3</th>\n",
       "      <td>84348301</td>\n",
       "      <td>M</td>\n",
       "      <td>11.42</td>\n",
       "      <td>20.38</td>\n",
       "      <td>77.58</td>\n",
       "      <td>386.1</td>\n",
       "      <td>0.14250</td>\n",
       "      <td>0.28390</td>\n",
       "      <td>0.2414</td>\n",
       "      <td>0.10520</td>\n",
       "      <td>...</td>\n",
       "      <td>14.91</td>\n",
       "      <td>26.50</td>\n",
       "      <td>98.87</td>\n",
       "      <td>567.7</td>\n",
       "      <td>0.2098</td>\n",
       "      <td>0.8663</td>\n",
       "      <td>0.6869</td>\n",
       "      <td>0.2575</td>\n",
       "      <td>0.6638</td>\n",
       "      <td>0.17300</td>\n",
       "    </tr>\n",
       "    <tr>\n",
       "      <th>4</th>\n",
       "      <td>84358402</td>\n",
       "      <td>M</td>\n",
       "      <td>20.29</td>\n",
       "      <td>14.34</td>\n",
       "      <td>135.10</td>\n",
       "      <td>1297.0</td>\n",
       "      <td>0.10030</td>\n",
       "      <td>0.13280</td>\n",
       "      <td>0.1980</td>\n",
       "      <td>0.10430</td>\n",
       "      <td>...</td>\n",
       "      <td>22.54</td>\n",
       "      <td>16.67</td>\n",
       "      <td>152.20</td>\n",
       "      <td>1575.0</td>\n",
       "      <td>0.1374</td>\n",
       "      <td>0.2050</td>\n",
       "      <td>0.4000</td>\n",
       "      <td>0.1625</td>\n",
       "      <td>0.2364</td>\n",
       "      <td>0.07678</td>\n",
       "    </tr>\n",
       "  </tbody>\n",
       "</table>\n",
       "<p>5 rows × 32 columns</p>\n",
       "</div>"
      ],
      "text/plain": [
       "         id diagnosis  radius_mean  texture_mean  perimeter_mean  area_mean  \\\n",
       "0    842302         M        17.99         10.38          122.80     1001.0   \n",
       "1    842517         M        20.57         17.77          132.90     1326.0   \n",
       "2  84300903         M        19.69         21.25          130.00     1203.0   \n",
       "3  84348301         M        11.42         20.38           77.58      386.1   \n",
       "4  84358402         M        20.29         14.34          135.10     1297.0   \n",
       "\n",
       "   smoothness_mean  compactness_mean  concavity_mean  concave points_mean  \\\n",
       "0          0.11840           0.27760          0.3001              0.14710   \n",
       "1          0.08474           0.07864          0.0869              0.07017   \n",
       "2          0.10960           0.15990          0.1974              0.12790   \n",
       "3          0.14250           0.28390          0.2414              0.10520   \n",
       "4          0.10030           0.13280          0.1980              0.10430   \n",
       "\n",
       "   ...  radius_worst  texture_worst  perimeter_worst  area_worst  \\\n",
       "0  ...         25.38          17.33           184.60      2019.0   \n",
       "1  ...         24.99          23.41           158.80      1956.0   \n",
       "2  ...         23.57          25.53           152.50      1709.0   \n",
       "3  ...         14.91          26.50            98.87       567.7   \n",
       "4  ...         22.54          16.67           152.20      1575.0   \n",
       "\n",
       "   smoothness_worst  compactness_worst  concavity_worst  concave points_worst  \\\n",
       "0            0.1622             0.6656           0.7119                0.2654   \n",
       "1            0.1238             0.1866           0.2416                0.1860   \n",
       "2            0.1444             0.4245           0.4504                0.2430   \n",
       "3            0.2098             0.8663           0.6869                0.2575   \n",
       "4            0.1374             0.2050           0.4000                0.1625   \n",
       "\n",
       "   symmetry_worst  fractal_dimension_worst  \n",
       "0          0.4601                  0.11890  \n",
       "1          0.2750                  0.08902  \n",
       "2          0.3613                  0.08758  \n",
       "3          0.6638                  0.17300  \n",
       "4          0.2364                  0.07678  \n",
       "\n",
       "[5 rows x 32 columns]"
      ]
     },
     "execution_count": 794,
     "metadata": {},
     "output_type": "execute_result"
    }
   ],
   "source": [
    "data = pd.read_csv('data.csv')\n",
    "print(data.shape)\n",
    "data.head()"
   ]
  },
  {
   "cell_type": "code",
   "execution_count": 623,
   "metadata": {},
   "outputs": [
    {
     "name": "stdout",
     "output_type": "stream",
     "text": [
      "(569, 32)\n"
     ]
    },
    {
     "data": {
      "text/html": [
       "<div>\n",
       "<style scoped>\n",
       "    .dataframe tbody tr th:only-of-type {\n",
       "        vertical-align: middle;\n",
       "    }\n",
       "\n",
       "    .dataframe tbody tr th {\n",
       "        vertical-align: top;\n",
       "    }\n",
       "\n",
       "    .dataframe thead th {\n",
       "        text-align: right;\n",
       "    }\n",
       "</style>\n",
       "<table border=\"1\" class=\"dataframe\">\n",
       "  <thead>\n",
       "    <tr style=\"text-align: right;\">\n",
       "      <th></th>\n",
       "      <th>id</th>\n",
       "      <th>diagnosis</th>\n",
       "      <th>radius_mean</th>\n",
       "      <th>texture_mean</th>\n",
       "      <th>perimeter_mean</th>\n",
       "      <th>area_mean</th>\n",
       "      <th>smoothness_mean</th>\n",
       "      <th>compactness_mean</th>\n",
       "      <th>concavity_mean</th>\n",
       "      <th>concave points_mean</th>\n",
       "      <th>...</th>\n",
       "      <th>radius_worst</th>\n",
       "      <th>texture_worst</th>\n",
       "      <th>perimeter_worst</th>\n",
       "      <th>area_worst</th>\n",
       "      <th>smoothness_worst</th>\n",
       "      <th>compactness_worst</th>\n",
       "      <th>concavity_worst</th>\n",
       "      <th>concave points_worst</th>\n",
       "      <th>symmetry_worst</th>\n",
       "      <th>fractal_dimension_worst</th>\n",
       "    </tr>\n",
       "  </thead>\n",
       "  <tbody>\n",
       "    <tr>\n",
       "      <th>20</th>\n",
       "      <td>8510653</td>\n",
       "      <td>B</td>\n",
       "      <td>13.08</td>\n",
       "      <td>15.71</td>\n",
       "      <td>85.63</td>\n",
       "      <td>520.0</td>\n",
       "      <td>0.10750</td>\n",
       "      <td>0.12700</td>\n",
       "      <td>0.045680</td>\n",
       "      <td>0.031100</td>\n",
       "      <td>...</td>\n",
       "      <td>14.50</td>\n",
       "      <td>20.49</td>\n",
       "      <td>96.09</td>\n",
       "      <td>630.5</td>\n",
       "      <td>0.13120</td>\n",
       "      <td>0.27760</td>\n",
       "      <td>0.18900</td>\n",
       "      <td>0.07283</td>\n",
       "      <td>0.3184</td>\n",
       "      <td>0.08183</td>\n",
       "    </tr>\n",
       "    <tr>\n",
       "      <th>84</th>\n",
       "      <td>8612080</td>\n",
       "      <td>B</td>\n",
       "      <td>12.00</td>\n",
       "      <td>15.65</td>\n",
       "      <td>76.95</td>\n",
       "      <td>443.3</td>\n",
       "      <td>0.09723</td>\n",
       "      <td>0.07165</td>\n",
       "      <td>0.041510</td>\n",
       "      <td>0.018630</td>\n",
       "      <td>...</td>\n",
       "      <td>13.67</td>\n",
       "      <td>24.90</td>\n",
       "      <td>87.78</td>\n",
       "      <td>567.9</td>\n",
       "      <td>0.13770</td>\n",
       "      <td>0.20030</td>\n",
       "      <td>0.22670</td>\n",
       "      <td>0.07632</td>\n",
       "      <td>0.3379</td>\n",
       "      <td>0.07924</td>\n",
       "    </tr>\n",
       "    <tr>\n",
       "      <th>309</th>\n",
       "      <td>893548</td>\n",
       "      <td>B</td>\n",
       "      <td>13.05</td>\n",
       "      <td>13.84</td>\n",
       "      <td>82.71</td>\n",
       "      <td>530.6</td>\n",
       "      <td>0.08352</td>\n",
       "      <td>0.03735</td>\n",
       "      <td>0.004559</td>\n",
       "      <td>0.008829</td>\n",
       "      <td>...</td>\n",
       "      <td>14.73</td>\n",
       "      <td>17.40</td>\n",
       "      <td>93.96</td>\n",
       "      <td>672.4</td>\n",
       "      <td>0.10160</td>\n",
       "      <td>0.05847</td>\n",
       "      <td>0.01824</td>\n",
       "      <td>0.03532</td>\n",
       "      <td>0.2107</td>\n",
       "      <td>0.06580</td>\n",
       "    </tr>\n",
       "    <tr>\n",
       "      <th>77</th>\n",
       "      <td>8610637</td>\n",
       "      <td>M</td>\n",
       "      <td>18.05</td>\n",
       "      <td>16.15</td>\n",
       "      <td>120.20</td>\n",
       "      <td>1006.0</td>\n",
       "      <td>0.10650</td>\n",
       "      <td>0.21460</td>\n",
       "      <td>0.168400</td>\n",
       "      <td>0.108000</td>\n",
       "      <td>...</td>\n",
       "      <td>22.39</td>\n",
       "      <td>18.91</td>\n",
       "      <td>150.10</td>\n",
       "      <td>1610.0</td>\n",
       "      <td>0.14780</td>\n",
       "      <td>0.56340</td>\n",
       "      <td>0.37860</td>\n",
       "      <td>0.21020</td>\n",
       "      <td>0.3751</td>\n",
       "      <td>0.11080</td>\n",
       "    </tr>\n",
       "    <tr>\n",
       "      <th>38</th>\n",
       "      <td>855133</td>\n",
       "      <td>M</td>\n",
       "      <td>14.99</td>\n",
       "      <td>25.20</td>\n",
       "      <td>95.54</td>\n",
       "      <td>698.8</td>\n",
       "      <td>0.09387</td>\n",
       "      <td>0.05131</td>\n",
       "      <td>0.023980</td>\n",
       "      <td>0.028990</td>\n",
       "      <td>...</td>\n",
       "      <td>14.99</td>\n",
       "      <td>25.20</td>\n",
       "      <td>95.54</td>\n",
       "      <td>698.8</td>\n",
       "      <td>0.09387</td>\n",
       "      <td>0.05131</td>\n",
       "      <td>0.02398</td>\n",
       "      <td>0.02899</td>\n",
       "      <td>0.1565</td>\n",
       "      <td>0.05504</td>\n",
       "    </tr>\n",
       "  </tbody>\n",
       "</table>\n",
       "<p>5 rows × 32 columns</p>\n",
       "</div>"
      ],
      "text/plain": [
       "          id diagnosis  radius_mean  texture_mean  perimeter_mean  area_mean  \\\n",
       "20   8510653         B        13.08         15.71           85.63      520.0   \n",
       "84   8612080         B        12.00         15.65           76.95      443.3   \n",
       "309   893548         B        13.05         13.84           82.71      530.6   \n",
       "77   8610637         M        18.05         16.15          120.20     1006.0   \n",
       "38    855133         M        14.99         25.20           95.54      698.8   \n",
       "\n",
       "     smoothness_mean  compactness_mean  concavity_mean  concave points_mean  \\\n",
       "20           0.10750           0.12700        0.045680             0.031100   \n",
       "84           0.09723           0.07165        0.041510             0.018630   \n",
       "309          0.08352           0.03735        0.004559             0.008829   \n",
       "77           0.10650           0.21460        0.168400             0.108000   \n",
       "38           0.09387           0.05131        0.023980             0.028990   \n",
       "\n",
       "     ...  radius_worst  texture_worst  perimeter_worst  area_worst  \\\n",
       "20   ...         14.50          20.49            96.09       630.5   \n",
       "84   ...         13.67          24.90            87.78       567.9   \n",
       "309  ...         14.73          17.40            93.96       672.4   \n",
       "77   ...         22.39          18.91           150.10      1610.0   \n",
       "38   ...         14.99          25.20            95.54       698.8   \n",
       "\n",
       "     smoothness_worst  compactness_worst  concavity_worst  \\\n",
       "20            0.13120            0.27760          0.18900   \n",
       "84            0.13770            0.20030          0.22670   \n",
       "309           0.10160            0.05847          0.01824   \n",
       "77            0.14780            0.56340          0.37860   \n",
       "38            0.09387            0.05131          0.02398   \n",
       "\n",
       "     concave points_worst  symmetry_worst  fractal_dimension_worst  \n",
       "20                0.07283          0.3184                  0.08183  \n",
       "84                0.07632          0.3379                  0.07924  \n",
       "309               0.03532          0.2107                  0.06580  \n",
       "77                0.21020          0.3751                  0.11080  \n",
       "38                0.02899          0.1565                  0.05504  \n",
       "\n",
       "[5 rows x 32 columns]"
      ]
     },
     "execution_count": 623,
     "metadata": {},
     "output_type": "execute_result"
    }
   ],
   "source": [
    "data_shuffled = data.sample(frac = 1)\n",
    "print(data_shuffled.shape)\n",
    "data_shuffled.head()"
   ]
  },
  {
   "cell_type": "code",
   "execution_count": 642,
   "metadata": {},
   "outputs": [
    {
     "name": "stdout",
     "output_type": "stream",
     "text": [
      "X shape: (569, 30)\n",
      "X shuffled shape: (569, 30)\n",
      "y shape: (569,)\n",
      "y shuffled shape: (569,)\n",
      "[ 1 -1]\n"
     ]
    }
   ],
   "source": [
    "X = data.drop(['diagnosis', 'id'], axis=1)\n",
    "X_shuffled = data_shuffled.drop(['diagnosis', 'id'], axis=1)\n",
    "y = data['diagnosis']\n",
    "y_shuffled = data_shuffled['diagnosis']\n",
    "y = y.replace({'M' : 1, 'B' : -1})\n",
    "y_shuffled = y_shuffled.replace({'M' : 1, 'B' : -1})\n",
    "print(f'X shape: {X.shape}')\n",
    "print(f'X shuffled shape: {X_shuffled.shape}')\n",
    "print(f'y shape: {y.shape}')\n",
    "print(f'y shuffled shape: {y_shuffled.shape}')\n",
    "print(y.unique())"
   ]
  },
  {
   "cell_type": "code",
   "execution_count": null,
   "metadata": {},
   "outputs": [],
   "source": [
    "def train_test_split(X, y, test_size):\n",
    "    print(X.iloc[0, 0])\n",
    "    X_train = X.iloc[:int(X.shape[0] * (1-test_size)),:]\n",
    "    X_test = X.iloc[int(X.shape[0] * (1-test_size)):,:]\n",
    "    y_train = y.iloc[:int(y.shape[0] * (1-test_size))]\n",
    "    y_test = y.iloc[int(y.shape[0] * (1-test_size)):]\n",
    "    print(X_train.iloc[0, 0])\n",
    "    return X_train, X_test, y_train, y_test\n",
    "\n",
    "def featureEngineering1(X):\n",
    "    for i in range(X.shape[1]):\n",
    "        X.iloc[:,i] = X.iloc[:,i].fillna(X.iloc[:,i].mean())\n",
    "    return X\n",
    "\n",
    "def featureEngineering2(X):\n",
    "    for i in range(X.shape[1]):\n",
    "        X.iloc[:,i] = (X.iloc[:,i] - X.iloc[:,i].mean()) / X.iloc[:,i].std()    \n",
    "    return X"
   ]
  },
  {
   "attachments": {},
   "cell_type": "markdown",
   "metadata": {},
   "source": [
    "PART A"
   ]
  },
  {
   "cell_type": "code",
   "execution_count": null,
   "metadata": {},
   "outputs": [],
   "source": [
    "def perceptron(X, y):\n",
    "    features = X.shape[1]\n",
    "    # print(features)\n",
    "    weights = np.zeros(features)\n",
    "    accuracy = [0]\n",
    "    iter = [0]\n",
    "    # print(weights)\n",
    "    for j in range(10000):\n",
    "        flag = True\n",
    "        for index, row in X.iterrows():\n",
    "            if(y[index] * (np.dot(weights.T, row)) <= 0):\n",
    "                # print(\"Index: \", index)\n",
    "                flag = False\n",
    "                weights = weights + y[index] * row\n",
    "                break\n",
    "        predictions = y * np.dot(X, weights)\n",
    "        predictions = predictions > 0\n",
    "        # print(weights)\n",
    "        if j%100 == 0:\n",
    "            if j%1000 == 0:\n",
    "                print(f'Accuracy at iteration {j} : {100 * (predictions.sum()/X.shape[0])}')\n",
    "            accuracy.append(100 * (predictions.sum()/X.shape[0]))\n",
    "            iter.append(j)\n",
    "        if flag:\n",
    "            break    \n",
    "    return weights, accuracy, iter\n",
    "\n",
    "def predict(X, y, weights):\n",
    "    predictions = y * np.dot(X, weights)\n",
    "    predictions = predictions > 0\n",
    "    return predictions.sum()/X.shape[0]"
   ]
  },
  {
   "attachments": {},
   "cell_type": "markdown",
   "metadata": {},
   "source": [
    "PM1"
   ]
  },
  {
   "cell_type": "code",
   "execution_count": 648,
   "metadata": {
    "tags": []
   },
   "outputs": [
    {
     "name": "stdout",
     "output_type": "stream",
     "text": [
      "PM1: Train X - (381, 30), Test X - (188, 30), Train Y - (381,), Test Y - (188,)\n",
      "\n",
      "Accuracy at iteration 0 : 44.35695538057743\n",
      "Accuracy at iteration 1000 : 82.93963254593176\n",
      "Accuracy at iteration 2000 : 72.17847769028872\n",
      "Accuracy at iteration 3000 : 73.49081364829397\n",
      "Accuracy at iteration 4000 : 44.35695538057743\n",
      "Accuracy at iteration 5000 : 72.44094488188976\n",
      "Accuracy at iteration 6000 : 74.2782152230971\n",
      "Accuracy at iteration 7000 : 75.8530183727034\n",
      "Accuracy at iteration 8000 : 45.14435695538058\n",
      "Accuracy at iteration 9000 : 45.14435695538058\n",
      "\n",
      "Accuracy of PM1 on test data: 43.08510638297872\n"
     ]
    },
    {
     "data": {
      "image/png": "[encoded data removed]",
      "text/plain": [
       "<Figure size 432x288 with 1 Axes>"
      ]
     },
     "metadata": {
      "needs_background": "light"
     },
     "output_type": "display_data"
    }
   ],
   "source": [
    "X_PM1 = featureEngineering1(X)\n",
    "X_train, X_test, y_train, y_test = train_test_split(X_PM1, y, 0.33)\n",
    "print(f'PM1: Train X - {X_train.shape}, Test X - {X_test.shape}, Train Y - {y_train.shape}, Test Y - {y_test.shape}\\n')\n",
    "weights, acc, iter = perceptron(X_train, y_train)\n",
    "print(f'\\nAccuracy of PM1 on test data: {100 * predict(X_test, y_test, weights)}')\n",
    "plt.plot(iter, acc)\n",
    "plt.show()"
   ]
  },
  {
   "cell_type": "markdown",
   "metadata": {},
   "source": [
    "PM2"
   ]
  },
  {
   "cell_type": "code",
   "execution_count": 249,
   "metadata": {},
   "outputs": [
    {
     "name": "stdout",
     "output_type": "stream",
     "text": [
      "PM2: Train X - (381, 30), Test X - (188, 30), Train Y - (381,), Test Y - (188,)\n",
      "\n",
      "Accuracy at iteration 0 : 63.25459317585301\n",
      "Accuracy at iteration 1000 : 60.367454068241464\n",
      "Accuracy at iteration 2000 : 72.70341207349081\n",
      "Accuracy at iteration 3000 : 59.84251968503938\n",
      "Accuracy at iteration 4000 : 82.93963254593176\n",
      "Accuracy at iteration 5000 : 67.45406824146981\n",
      "Accuracy at iteration 6000 : 85.56430446194226\n",
      "Accuracy at iteration 7000 : 70.86614173228347\n",
      "Accuracy at iteration 8000 : 83.2020997375328\n",
      "Accuracy at iteration 9000 : 75.06561679790026\n",
      "\n",
      "Accuracy of PM2 on test data: 73.40425531914893\n"
     ]
    },
    {
     "data": {
      "image/png": "[encoded data removed]",
      "text/plain": [
       "<Figure size 432x288 with 1 Axes>"
      ]
     },
     "metadata": {
      "needs_background": "light"
     },
     "output_type": "display_data"
    }
   ],
   "source": [
    "X_PM2 = featureEngineering1(X_shuffled)\n",
    "X_train, X_test, y_train, y_test = train_test_split(X_PM2, y_shuffled, 0.33)\n",
    "print(f'PM2: Train X - {X_train.shape}, Test X - {X_test.shape}, Train Y - {y_train.shape}, Test Y - {y_test.shape}\\n')\n",
    "weights, acc, iter = perceptron(X_train, y_train)\n",
    "print(f'\\nAccuracy of PM2 on test data: {100 * predict(X_test, y_test, weights)}')\n",
    "plt.plot(iter, acc)\n",
    "plt.show()"
   ]
  },
  {
   "attachments": {},
   "cell_type": "markdown",
   "metadata": {},
   "source": [
    "PM3"
   ]
  },
  {
   "cell_type": "code",
   "execution_count": 272,
   "metadata": {},
   "outputs": [
    {
     "name": "stdout",
     "output_type": "stream",
     "text": [
      "PM3: Train X - (381, 30), Test X - (188, 30), Train Y - (381,), Test Y - (188,)\n",
      "\n",
      "Accuracy at iteration 0 : 87.4015748031496\n",
      "Accuracy at iteration 1000 : 98.4251968503937\n",
      "Accuracy at iteration 2000 : 97.63779527559055\n",
      "Accuracy at iteration 3000 : 98.16272965879264\n",
      "Accuracy at iteration 4000 : 97.63779527559055\n",
      "Accuracy at iteration 5000 : 98.16272965879264\n",
      "Accuracy at iteration 6000 : 98.9501312335958\n",
      "Accuracy at iteration 7000 : 98.9501312335958\n",
      "Accuracy at iteration 8000 : 99.47506561679789\n",
      "Accuracy at iteration 9000 : 98.16272965879264\n",
      "\n",
      "Accuracy of PM3 on test data: 93.08510638297872\n"
     ]
    },
    {
     "data": {
      "image/png": "[encoded data removed]",
      "text/plain": [
       "<Figure size 432x288 with 1 Axes>"
      ]
     },
     "metadata": {
      "needs_background": "light"
     },
     "output_type": "display_data"
    }
   ],
   "source": [
    "X_PM3 = featureEngineering1(X)\n",
    "X_PM3 = featureEngineering2(X_PM3)\n",
    "X_train, X_test, y_train, y_test = train_test_split(X_PM3, y, 0.33)\n",
    "print(f'PM3: Train X - {X_train.shape}, Test X - {X_test.shape}, Train Y - {y_train.shape}, Test Y - {y_test.shape}\\n')\n",
    "weights, acc, iter = perceptron(X_train, y_train)\n",
    "print(f'\\nAccuracy of PM3 on test data: {100 * predict(X_test, y_test, weights)}')\n",
    "plt.plot(iter, acc)\n",
    "plt.show()"
   ]
  },
  {
   "attachments": {},
   "cell_type": "markdown",
   "metadata": {},
   "source": [
    "PM4"
   ]
  },
  {
   "cell_type": "code",
   "execution_count": 273,
   "metadata": {},
   "outputs": [
    {
     "name": "stdout",
     "output_type": "stream",
     "text": [
      "PM4: Train X - (381, 30), Test X - (188, 30), Train Y - (381,), Test Y - (188,)\n",
      "\n",
      "Accuracy at iteration 0 : 87.4015748031496\n",
      "Accuracy at iteration 1000 : 98.4251968503937\n",
      "Accuracy at iteration 2000 : 97.63779527559055\n",
      "Accuracy at iteration 3000 : 98.16272965879264\n",
      "Accuracy at iteration 4000 : 97.63779527559055\n",
      "Accuracy at iteration 5000 : 98.16272965879264\n",
      "Accuracy at iteration 6000 : 98.9501312335958\n",
      "Accuracy at iteration 7000 : 98.9501312335958\n",
      "Accuracy at iteration 8000 : 99.47506561679789\n",
      "Accuracy at iteration 9000 : 98.16272965879264\n",
      "\n",
      "Accuracy of PM4 on test data: 93.08510638297872\n"
     ]
    },
    {
     "data": {
      "image/png": "[encoded data removed]",
      "text/plain": [
       "<Figure size 432x288 with 1 Axes>"
      ]
     },
     "metadata": {
      "needs_background": "light"
     },
     "output_type": "display_data"
    }
   ],
   "source": [
    "X_PM4 = featureEngineering1(X.sample(frac = 1, axis='columns'))\n",
    "X_train, X_test, y_train, y_test = train_test_split(X_PM4, y, 0.33)\n",
    "print(f'PM4: Train X - {X_train.shape}, Test X - {X_test.shape}, Train Y - {y_train.shape}, Test Y - {y_test.shape}\\n')\n",
    "weights, acc, iter = perceptron(X_train, y_train)\n",
    "print(f'\\nAccuracy of PM4 on test data: {100 * predict(X_test, y_test, weights)}')\n",
    "plt.plot(iter, acc)\n",
    "plt.show()\n"
   ]
  },
  {
   "cell_type": "markdown",
   "metadata": {},
   "source": [
    "PART B"
   ]
  },
  {
   "cell_type": "code",
   "execution_count": 913,
   "metadata": {},
   "outputs": [],
   "source": [
    "from sklearn.discriminant_analysis import LinearDiscriminantAnalysis\n",
    "data = pd.read_csv('data.csv')\n",
    "X = data.drop(['diagnosis', 'id'], axis=1)\n",
    "y = data['diagnosis']\n",
    "y = y.replace({'M' : 0, 'B' : 1})\n",
    "X = featureEngineering1(X)"
   ]
  },
  {
   "cell_type": "code",
   "execution_count": 917,
   "metadata": {},
   "outputs": [
    {
     "name": "stdout",
     "output_type": "stream",
     "text": [
      "[[1.74328591e+01 2.16049057e+01 1.15365377e+02 9.78376415e+02\n",
      "  1.02898491e-01 1.45187783e-01 1.60774717e-01 8.79900000e-02\n",
      "  1.92908962e-01 6.26800943e-02 6.09082547e-01 1.21091462e+00\n",
      "  4.32392925e+00 7.26724057e+01 6.78009434e-03 3.22811651e-02\n",
      "  4.18240094e-02 1.50604717e-02 2.04724009e-02 4.06240566e-03\n",
      "  2.11348113e+01 2.93182075e+01 1.41370330e+02 1.42228632e+03\n",
      "  1.44845236e-01 3.74824104e-01 4.50605566e-01 1.82237311e-01\n",
      "  3.23467925e-01 9.15299528e-02]\n",
      " [1.21465238e+01 1.79147619e+01 7.81621666e+01 4.62790196e+02\n",
      "  9.24776471e-02 8.00846218e-02 4.62576345e-02 2.57174062e-02\n",
      "  1.74185994e-01 6.28673950e-02 2.84082353e-01 1.22038011e+00\n",
      "  2.00032129e+00 2.11351485e+01 7.19590196e-03 2.14186270e-02\n",
      "  2.59967356e-02 9.85765266e-03 2.05838067e-02 3.63605126e-03\n",
      "  1.33798011e+01 2.35150700e+01 8.70059384e+01 5.60205336e+02\n",
      "  1.24959496e-01 1.82672549e-01 1.66663088e-01 7.44443445e-02\n",
      "  2.70245938e-01 7.94420728e-02]]\n"
     ]
    },
    {
     "data": {
      "image/png": "[encoded data removed]",
      "text/plain": [
       "<Figure size 432x288 with 1 Axes>"
      ]
     },
     "metadata": {
      "needs_background": "light"
     },
     "output_type": "display_data"
    }
   ],
   "source": [
    "lda = LinearDiscriminantAnalysis(n_components=1)\n",
    "proj = lda.fit_transform(X, y)\n",
    "print(lda.means_)\n",
    "plt.scatter(proj, np.zeros(proj.shape[0]), c=y)\n",
    "plt.show()"
   ]
  },
  {
   "attachments": {},
   "cell_type": "markdown",
   "metadata": {},
   "source": [
    "PART C"
   ]
  },
  {
   "cell_type": "code",
   "execution_count": 855,
   "metadata": {},
   "outputs": [],
   "source": [
    "data = pd.read_csv('data.csv')\n",
    "X = data.drop(['diagnosis', 'id'], axis=1)\n",
    "y = data['diagnosis']\n",
    "y = y.replace({'M' : 0, 'B' : 1})\n",
    "X = featureEngineering1(X)"
   ]
  },
  {
   "cell_type": "code",
   "execution_count": 852,
   "metadata": {},
   "outputs": [],
   "source": [
    "class LogisticRegression:\n",
    "    def sigmoid(self, x):\n",
    "        return 1/(1+np.exp(-x)) + 1e-15\n",
    "\n",
    "    def cost_function(self, y, y_hat):\n",
    "        return -np.mean(y * np.log(y_hat) + ((1-y) * np.log(1-y_hat)))\n",
    "\n",
    "    def predictLogistic(self, X, y, weights, bias, threshold):\n",
    "        predictions = self.sigmoid(np.dot(X, weights) + bias) > threshold\n",
    "        return 100 * predictions.sum()/X.shape[0]\n",
    "\n",
    "    def batchGradientDescent(self, X, y, iter, learning_rate):\n",
    "        weights = np.zeros(X.shape[1])\n",
    "        bias = 0\n",
    "        m = X.shape[0]\n",
    "        cost_history = []\n",
    "        iterations = []\n",
    "        for i in range(iter):\n",
    "            y_hat = self.sigmoid(np.dot(X, weights) + bias)\n",
    "\n",
    "            cost = self.cost_function(y, y_hat)\n",
    "            cost_history.append(cost)\n",
    "            iterations.append(i)\n",
    "\n",
    "            weights = weights - (learning_rate/m) * np.dot(X.T, (y_hat - y))\n",
    "            bias = bias - (learning_rate/m) * np.sum(y_hat - y)\n",
    "\n",
    "            # if i%1000 == 0:\n",
    "            #     print(f'Cost at iteration {i} : {cost}')\n",
    "\n",
    "        return weights, bias, cost_history, iterations\n",
    "\n",
    "    def stochasticGradientDescent(self, X, y, iter, learning_rate):\n",
    "        weights = np.zeros(X.shape[1])\n",
    "        bias = 0\n",
    "        m = X.shape[0]\n",
    "        cost_history = []\n",
    "        iterations = []\n",
    "        for i in range(iter):\n",
    "            k = np.random.randint(0, m)\n",
    "            X_curr = X.iloc[k, :]\n",
    "            y_curr = y.iloc[k]\n",
    "\n",
    "            y_hat = self.sigmoid(np.dot(X_curr, weights) + bias)\n",
    "\n",
    "            cost = self.cost_function(y_curr, y_hat)\n",
    "            cost_history.append(cost)\n",
    "            iterations.append(i)\n",
    "\n",
    "            weights = weights - (learning_rate/m) * np.dot(X_curr.T, (y_hat - y_curr))\n",
    "            bias = bias - (learning_rate/m) * np.sum(y_hat - y_curr)\n",
    "\n",
    "            # if i%1000 == 0:\n",
    "            #     print(f'Cost at iteration {i} : {cost}')\n",
    "\n",
    "        return weights, bias, cost_history, iterations\n",
    "\n",
    "    def miniBatchGradientDescent(self, X, y, iter, learning_rate, batch_size):\n",
    "        weights = np.zeros(X.shape[1])\n",
    "        bias = 0\n",
    "        m = X.shape[0]\n",
    "        cost_history = []\n",
    "        iterations = []\n",
    "        for i in range(iter):\n",
    "            k = np.random.randint(0, m-batch_size+1)\n",
    "            X_curr = X.iloc[k:k+batch_size, :]\n",
    "            y_curr = y.iloc[k:k+batch_size]\n",
    "            y_hat = self.sigmoid(np.dot(X_curr, weights) + bias)\n",
    "\n",
    "            cost = self.cost_function(y_curr, y_hat)\n",
    "            cost_history.append(cost)\n",
    "            iterations.append(i)\n",
    "\n",
    "            weights = weights - (learning_rate/m) * np.dot(X_curr.T, (y_hat - y_curr))\n",
    "            bias = bias - (learning_rate/m) * np.sum(y_hat - y_curr)\n",
    "\n",
    "            # if i%1000 == 0:\n",
    "            #     print(f'Cost at iteration {i} : {cost}')\n",
    "\n",
    "        return weights, bias, cost_history, iterations         "
   ]
  },
  {
   "cell_type": "code",
   "execution_count": 857,
   "metadata": {},
   "outputs": [],
   "source": [
    "LogisticRegression = LogisticRegression()\n",
    "threshold = [0.3, 0.4, 0.6, 0.7]\n",
    "learning_rates = [0.01, 0.001, 0.0001]"
   ]
  },
  {
   "cell_type": "code",
   "execution_count": 858,
   "metadata": {},
   "outputs": [],
   "source": [
    "X_train1,X_test1,y_train1,y_test1=train_test_split(X,y,test_size=0.33)\n",
    "X = featureEngineering2(X)\n",
    "X_train2,X_test2,y_train2,y_test2=train_test_split(X,y,test_size=0.33)"
   ]
  },
  {
   "cell_type": "code",
   "execution_count": 859,
   "metadata": {},
   "outputs": [
    {
     "name": "stdout",
     "output_type": "stream",
     "text": [
      "Accuracy of LR1 with learning rate 0.01 and threshold 0.3 : 69.14893617021276\n",
      "Accuracy of LR1 with learning rate 0.01 and threshold 0.4 : 67.55319148936171\n",
      "Accuracy of LR1 with learning rate 0.01 and threshold 0.6 : 65.42553191489361\n",
      "Accuracy of LR1 with learning rate 0.01 and threshold 0.7 : 64.36170212765957\n",
      "Accuracy of LR1 with learning rate 0.001 and threshold 0.3 : 71.80851063829788\n",
      "Accuracy of LR1 with learning rate 0.001 and threshold 0.4 : 69.68085106382979\n",
      "Accuracy of LR1 with learning rate 0.001 and threshold 0.6 : 65.42553191489361\n",
      "Accuracy of LR1 with learning rate 0.001 and threshold 0.7 : 63.829787234042556\n",
      "Accuracy of LR1 with learning rate 0.0001 and threshold 0.3 : 73.40425531914893\n",
      "Accuracy of LR1 with learning rate 0.0001 and threshold 0.4 : 71.27659574468085\n",
      "Accuracy of LR1 with learning rate 0.0001 and threshold 0.6 : 61.702127659574465\n",
      "Accuracy of LR1 with learning rate 0.0001 and threshold 0.7 : 53.723404255319146\n",
      "\n",
      "\n",
      "Accuracy of LR2 with learning rate 0.01 and threshold 0.3 : 68.08510638297872\n",
      "Accuracy of LR2 with learning rate 0.01 and threshold 0.4 : 66.48936170212765\n",
      "Accuracy of LR2 with learning rate 0.01 and threshold 0.6 : 64.36170212765957\n",
      "Accuracy of LR2 with learning rate 0.01 and threshold 0.7 : 64.36170212765957\n",
      "Accuracy of LR2 with learning rate 0.001 and threshold 0.3 : 69.14893617021276\n",
      "Accuracy of LR2 with learning rate 0.001 and threshold 0.4 : 67.02127659574468\n",
      "Accuracy of LR2 with learning rate 0.001 and threshold 0.6 : 63.829787234042556\n",
      "Accuracy of LR2 with learning rate 0.001 and threshold 0.7 : 61.702127659574465\n",
      "Accuracy of LR2 with learning rate 0.0001 and threshold 0.3 : 72.34042553191489\n",
      "Accuracy of LR2 with learning rate 0.0001 and threshold 0.4 : 67.55319148936171\n",
      "Accuracy of LR2 with learning rate 0.0001 and threshold 0.6 : 57.97872340425532\n",
      "Accuracy of LR2 with learning rate 0.0001 and threshold 0.7 : 50.0\n"
     ]
    }
   ],
   "source": [
    "for alpha in learning_rates:\n",
    "    weights, bias, cost_history, iterations = LogisticRegression.batchGradientDescent(X_train1, y_train1, 10000, alpha)\n",
    "    for thresh in threshold:\n",
    "        accuracy = LogisticRegression.predictLogistic(X_test1, y_test1, weights, bias, thresh)\n",
    "        print(f'Accuracy of LR1 with learning rate {alpha} and threshold {thresh} : {accuracy}')\n",
    "print('\\n')\n",
    "for alpha in learning_rates:\n",
    "    weights, bias, cost_history, iterations = LogisticRegression.batchGradientDescent(X_train2, y_train2, 10000, alpha)\n",
    "    for thresh in threshold:\n",
    "        accuracy = LogisticRegression.predictLogistic(X_test2, y_test2, weights, bias, thresh)\n",
    "        print(f'Accuracy of LR2 with learning rate {alpha} and threshold {thresh} : {accuracy}')"
   ]
  },
  {
   "cell_type": "code",
   "execution_count": 861,
   "metadata": {},
   "outputs": [
    {
     "name": "stdout",
     "output_type": "stream",
     "text": [
      "Accuracy of LR1 with learning rate 0.01 and threshold 0.3 : 82.97872340425532\n",
      "Accuracy of LR1 with learning rate 0.01 and threshold 0.4 : 72.87234042553192\n",
      "Accuracy of LR1 with learning rate 0.01 and threshold 0.6 : 51.59574468085106\n",
      "Accuracy of LR1 with learning rate 0.01 and threshold 0.7 : 19.148936170212767\n",
      "Accuracy of LR1 with learning rate 0.001 and threshold 0.3 : 100.0\n",
      "Accuracy of LR1 with learning rate 0.001 and threshold 0.4 : 100.0\n",
      "Accuracy of LR1 with learning rate 0.001 and threshold 0.6 : 0.0\n",
      "Accuracy of LR1 with learning rate 0.001 and threshold 0.7 : 0.0\n",
      "Accuracy of LR1 with learning rate 0.0001 and threshold 0.3 : 100.0\n",
      "Accuracy of LR1 with learning rate 0.0001 and threshold 0.4 : 100.0\n",
      "Accuracy of LR1 with learning rate 0.0001 and threshold 0.6 : 0.0\n",
      "Accuracy of LR1 with learning rate 0.0001 and threshold 0.7 : 0.0\n",
      "\n",
      "\n",
      "Accuracy of LR2 with learning rate 0.01 and threshold 0.3 : 80.31914893617021\n",
      "Accuracy of LR2 with learning rate 0.01 and threshold 0.4 : 70.74468085106383\n",
      "Accuracy of LR2 with learning rate 0.01 and threshold 0.6 : 48.93617021276596\n",
      "Accuracy of LR2 with learning rate 0.01 and threshold 0.7 : 15.957446808510639\n",
      "Accuracy of LR2 with learning rate 0.001 and threshold 0.3 : 100.0\n",
      "Accuracy of LR2 with learning rate 0.001 and threshold 0.4 : 98.93617021276596\n",
      "Accuracy of LR2 with learning rate 0.001 and threshold 0.6 : 0.0\n",
      "Accuracy of LR2 with learning rate 0.001 and threshold 0.7 : 0.0\n",
      "Accuracy of LR2 with learning rate 0.0001 and threshold 0.3 : 100.0\n",
      "Accuracy of LR2 with learning rate 0.0001 and threshold 0.4 : 100.0\n",
      "Accuracy of LR2 with learning rate 0.0001 and threshold 0.6 : 0.0\n",
      "Accuracy of LR2 with learning rate 0.0001 and threshold 0.7 : 0.0\n"
     ]
    }
   ],
   "source": [
    "for alpha in learning_rates:\n",
    "    weights, bias, cost_history, iterations = LogisticRegression.stochasticGradientDescent(X_train1, y_train1, 10000, alpha)\n",
    "    for thresh in threshold:\n",
    "        accuracy = LogisticRegression.predictLogistic(X_test1, y_test1, weights, bias, thresh)\n",
    "        print(f'Accuracy of LR1 with learning rate {alpha} and threshold {thresh} : {accuracy}')\n",
    "print('\\n')\n",
    "for alpha in learning_rates:\n",
    "    weights, bias, cost_history, iterations = LogisticRegression.stochasticGradientDescent(X_train2, y_train2, 10000, alpha)\n",
    "    for thresh in threshold:\n",
    "        accuracy = LogisticRegression.predictLogistic(X_test2, y_test2, weights, bias, thresh)\n",
    "        print(f'Accuracy of LR2 with learning rate {alpha} and threshold {thresh} : {accuracy}')"
   ]
  },
  {
   "cell_type": "code",
   "execution_count": 863,
   "metadata": {},
   "outputs": [
    {
     "name": "stdout",
     "output_type": "stream",
     "text": [
      "Accuracy of LR1 with learning rate 0.01 and threshold 0.3 : 71.80851063829788\n",
      "Accuracy of LR1 with learning rate 0.01 and threshold 0.4 : 69.68085106382979\n",
      "Accuracy of LR1 with learning rate 0.01 and threshold 0.6 : 65.42553191489361\n",
      "Accuracy of LR1 with learning rate 0.01 and threshold 0.7 : 63.829787234042556\n",
      "Accuracy of LR1 with learning rate 0.001 and threshold 0.3 : 74.46808510638297\n",
      "Accuracy of LR1 with learning rate 0.001 and threshold 0.4 : 72.34042553191489\n",
      "Accuracy of LR1 with learning rate 0.001 and threshold 0.6 : 60.638297872340424\n",
      "Accuracy of LR1 with learning rate 0.001 and threshold 0.7 : 53.191489361702125\n",
      "Accuracy of LR1 with learning rate 0.0001 and threshold 0.3 : 97.34042553191489\n",
      "Accuracy of LR1 with learning rate 0.0001 and threshold 0.4 : 86.17021276595744\n",
      "Accuracy of LR1 with learning rate 0.0001 and threshold 0.6 : 12.23404255319149\n",
      "Accuracy of LR1 with learning rate 0.0001 and threshold 0.7 : 0.0\n",
      "\n",
      "\n",
      "Accuracy of LR2 with learning rate 0.01 and threshold 0.3 : 69.14893617021276\n",
      "Accuracy of LR2 with learning rate 0.01 and threshold 0.4 : 67.02127659574468\n",
      "Accuracy of LR2 with learning rate 0.01 and threshold 0.6 : 63.829787234042556\n",
      "Accuracy of LR2 with learning rate 0.01 and threshold 0.7 : 61.170212765957444\n",
      "Accuracy of LR2 with learning rate 0.001 and threshold 0.3 : 72.87234042553192\n",
      "Accuracy of LR2 with learning rate 0.001 and threshold 0.4 : 68.08510638297872\n",
      "Accuracy of LR2 with learning rate 0.001 and threshold 0.6 : 56.91489361702128\n",
      "Accuracy of LR2 with learning rate 0.001 and threshold 0.7 : 49.46808510638298\n",
      "Accuracy of LR2 with learning rate 0.0001 and threshold 0.3 : 96.80851063829788\n",
      "Accuracy of LR2 with learning rate 0.0001 and threshold 0.4 : 84.04255319148936\n",
      "Accuracy of LR2 with learning rate 0.0001 and threshold 0.6 : 11.702127659574469\n",
      "Accuracy of LR2 with learning rate 0.0001 and threshold 0.7 : 0.0\n"
     ]
    }
   ],
   "source": [
    "for alpha in learning_rates:\n",
    "    weights, bias, cost_history, iterations =LogisticRegression.miniBatchGradientDescent(X_train1, y_train1, 10000, alpha, 32)\n",
    "    for thresh in threshold:   \n",
    "        accuracy =LogisticRegression.predictLogistic(X_test1, y_test1, weights, bias, thresh)\n",
    "        print(f'Accuracy of LR1 with learning rate {alpha} and threshold {thresh} : {accuracy}')\n",
    "print('\\n')\n",
    "for alpha in learning_rates:\n",
    "    weights, bias, cost_history, iterations =LogisticRegression.miniBatchGradientDescent(X_train2, y_train2, 10000, alpha, 32)\n",
    "    for thresh in threshold:   \n",
    "        accuracy =LogisticRegression.predictLogistic(X_test2, y_test2, weights, bias, thresh)\n",
    "        print(f'Accuracy of LR2 with learning rate {alpha} and threshold {thresh} : {accuracy}')"
   ]
  }
 ],
 "metadata": {
  "kernelspec": {
   "display_name": "Python 3 (ipykernel)",
   "language": "python",
   "name": "python3"
  },
  "language_info": {
   "codemirror_mode": {
    "name": "ipython",
    "version": 3
   },
   "file_extension": ".py",
   "mimetype": "text/x-python",
   "name": "python",
   "nbconvert_exporter": "python",
   "pygments_lexer": "ipython3",
   "version": "3.9.12"
  },
  "orig_nbformat": 4
 },
 "nbformat": 4,
 "nbformat_minor": 2
}
